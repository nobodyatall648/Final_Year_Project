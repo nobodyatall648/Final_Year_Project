{
 "cells": [
  {
   "cell_type": "markdown",
   "id": "f0f83e5b",
   "metadata": {},
   "source": [
    "# Merging 2 model predict result to Improve Accuracy"
   ]
  },
  {
   "cell_type": "markdown",
   "id": "911dbfec",
   "metadata": {},
   "source": [
    "## Load models"
   ]
  },
  {
   "cell_type": "code",
   "execution_count": 3,
   "id": "c7126122",
   "metadata": {},
   "outputs": [],
   "source": [
    "import os\n",
    "import librosa\n",
    "import cv2\n",
    "import numpy as np\n",
    "import matplotlib.pyplot as plt\n",
    "from keras.models import load_model"
   ]
  },
  {
   "cell_type": "code",
   "execution_count": 4,
   "id": "097486aa",
   "metadata": {},
   "outputs": [],
   "source": [
    "dogBarkModel = 'dog_barks_classification.hdf5'\n",
    "dogEmotionModel = 'dog_emotion_recognition.hdf5'\n",
    "\n",
    "dogBarkLoadedmodel = load_model(os.path.join('model',dogBarkModel))\n",
    "dogEmotionLoadedmodel = load_model(os.path.join('model',dogEmotionModel))\n"
   ]
  },
  {
   "cell_type": "markdown",
   "id": "e9785b8f",
   "metadata": {},
   "source": [
    "### Explanation on output labels\n",
    "\n",
    "dog emotion recognition = ['bow-wow', 'growling', 'howl'] <br>\n",
    "dog bark recognition = ['happy', 'angry', 'sick']  <br>\n",
    "<br>\n",
    "bow-wow == happy => happy dog <br>\n",
    "growling == angry => angry dog <br>\n",
    "howl == sick => sick dog <br>"
   ]
  },
  {
   "cell_type": "code",
   "execution_count": 8,
   "id": "8b759d95",
   "metadata": {},
   "outputs": [],
   "source": [
    "def dogEmotionPred(filepath):\n",
    "    img_rows = 224\n",
    "    img_cols = 224\n",
    "    \n",
    "    img = cv2.imread(filepath)\n",
    "    img = cv2.cvtColor(img,cv2.COLOR_BGR2RGB)\n",
    "    \n",
    "    img = cv2.resize(img,(img_rows,img_cols)).astype('float32')\n",
    "    img /= 255\n",
    "    img = np.expand_dims(img,axis=0)\n",
    "    predict_label = dogEmotionLoadedmodel.predict(img)\n",
    "    \n",
    "    return predict_label\n",
    "    "
   ]
  },
  {
   "cell_type": "code",
   "execution_count": 9,
   "id": "845b2f06",
   "metadata": {},
   "outputs": [],
   "source": [
    "def dogBarkPred(filepath):\n",
    "    audio, sample_rate = librosa.load(filepath, res_type='kaiser_fast') \n",
    "    mfccs_features = librosa.feature.mfcc(y=audio, sr=sample_rate, n_mfcc=40)\n",
    "    mfccs_scaled_features = np.mean(mfccs_features.T,axis=0) #scaling\n",
    "    data = mfccs_scaled_features.reshape(1,-1)\n",
    "    \n",
    "    #predicted_label = chosen_model.predict_classes(data)\n",
    "    predicted_label = dogBarkLoadedmodel.predict(data)\n",
    "    \n",
    "    return predicted_label"
   ]
  },
  {
   "cell_type": "code",
   "execution_count": 19,
   "id": "f4e54659",
   "metadata": {},
   "outputs": [
    {
     "name": "stdout",
     "output_type": "stream",
     "text": [
      "[2]\n",
      "[2]\n"
     ]
    }
   ],
   "source": [
    "imgFile = os.path.join(\"test_data\", \"test_3.jpg\")\n",
    "barkFile = os.path.join(\"test_data\", \"test_3.wav\")\n",
    "\n",
    "dogEmotionPredRsl = dogEmotionPred(imgFile)\n",
    "dogBarkPredRsl = dogBarkPred(barkFile)\n",
    "\n",
    "print(dogEmotionPredRsl.argmax(axis=1))\n",
    "print(dogBarkPredRsl.argmax(axis=1))"
   ]
  },
  {
   "cell_type": "code",
   "execution_count": 35,
   "id": "cb7ee572",
   "metadata": {},
   "outputs": [
    {
     "data": {
      "text/plain": [
       "[0.0008873475599102676, 4.839532630285248e-05, 0.9990642666816711]"
      ]
     },
     "execution_count": 35,
     "metadata": {},
     "output_type": "execute_result"
    }
   ],
   "source": [
    "dogEmotionPredRsl.tolist()[0]"
   ]
  },
  {
   "cell_type": "code",
   "execution_count": 28,
   "id": "caa15183",
   "metadata": {},
   "outputs": [
    {
     "data": {
      "text/plain": [
       "array([1.0904992e-15, 2.5544929e-17, 1.0000000e+00], dtype=float32)"
      ]
     },
     "execution_count": 28,
     "metadata": {},
     "output_type": "execute_result"
    }
   ],
   "source": [
    "dogBarkPredRsl[0]"
   ]
  },
  {
   "cell_type": "code",
   "execution_count": 24,
   "id": "d462c7ee",
   "metadata": {},
   "outputs": [
    {
     "data": {
      "text/plain": [
       "numpy.ndarray"
      ]
     },
     "execution_count": 24,
     "metadata": {},
     "output_type": "execute_result"
    }
   ],
   "source": [
    "type(dogEmotionPredRsl[0])"
   ]
  },
  {
   "cell_type": "code",
   "execution_count": 54,
   "id": "140382f4",
   "metadata": {},
   "outputs": [
    {
     "data": {
      "text/plain": [
       "2"
      ]
     },
     "execution_count": 54,
     "metadata": {},
     "output_type": "execute_result"
    }
   ],
   "source": [
    "combinedList = []\n",
    "combinedList.append(dogEmotionPredRsl.tolist()[0])\n",
    "combinedList.append(dogBarkPredRsl.tolist()[0])\n",
    "\n",
    "dogPredArr = np.array(combinedList)\n",
    "\n",
    "np.argmax(np.average(dogPredArr, axis=0))"
   ]
  },
  {
   "cell_type": "code",
   "execution_count": null,
   "id": "1a31bba8",
   "metadata": {},
   "outputs": [],
   "source": []
  }
 ],
 "metadata": {
  "kernelspec": {
   "display_name": "Python 3",
   "language": "python",
   "name": "python3"
  },
  "language_info": {
   "codemirror_mode": {
    "name": "ipython",
    "version": 3
   },
   "file_extension": ".py",
   "mimetype": "text/x-python",
   "name": "python",
   "nbconvert_exporter": "python",
   "pygments_lexer": "ipython3",
   "version": "3.8.8"
  }
 },
 "nbformat": 4,
 "nbformat_minor": 5
}
